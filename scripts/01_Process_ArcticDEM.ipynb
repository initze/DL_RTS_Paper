{
 "cells": [
  {
   "cell_type": "markdown",
   "metadata": {},
   "source": [
    "# Trigger ArcticDEM Download "
   ]
  },
  {
   "cell_type": "code",
   "execution_count": null,
   "metadata": {},
   "outputs": [],
   "source": [
    "import ee\n",
    "import os\n",
    "import geopandas as gpd\n",
    "import glob\n",
    "import eeconvert\n",
    "%config Completer.use_jedi = False"
   ]
  },
  {
   "cell_type": "code",
   "execution_count": null,
   "metadata": {},
   "outputs": [],
   "source": [
    "ee.Initialize()"
   ]
  },
  {
   "cell_type": "markdown",
   "metadata": {},
   "source": [
    "### Settings\n",
    "\n",
    "#### Paths"
   ]
  },
  {
   "cell_type": "code",
   "execution_count": null,
   "metadata": {},
   "outputs": [],
   "source": [
    "f = r'' # Add Path to your Polygon file here"
   ]
  },
  {
   "cell_type": "markdown",
   "metadata": {},
   "source": [
    "### Function "
   ]
  },
  {
   "cell_type": "code",
   "execution_count": null,
   "metadata": {},
   "outputs": [],
   "source": [
    "def get_ArcticDEM_slope():\n",
    "    dem = ee.Image(\"UMN/PGC/ArcticDEM/V3/2m_mosaic\")\n",
    "    slope = ee.Terrain.slope(dem)\n",
    "    return slope"
   ]
  },
  {
   "cell_type": "code",
   "execution_count": null,
   "metadata": {},
   "outputs": [],
   "source": [
    "def get_ArcticDEM_rel_el(kernel_size=100, offset=50, factor=300):\n",
    "    dem = ee.Image(\"UMN/PGC/ArcticDEM/V3/2m_mosaic\")\n",
    "    conv = dem.convolve(ee.Kernel.circle(kernel_size, 'meters'))\n",
    "    diff = (dem.subtract(conv).add(ee.Image.constant(offset)).multiply(ee.Image.constant(factor)).toInt16())\n",
    "    return diff"
   ]
  },
  {
   "cell_type": "code",
   "execution_count": null,
   "metadata": {},
   "outputs": [],
   "source": [
    "def download_ee(filepath, ee_layer, GDrive_dir='AI-CORE/slope', scale=2, buffersize=5000, suffix='_slope'):\n",
    "    \n",
    "    name = os.path.basename(filepath).split('.')[0] + suffix\n",
    "    gdf = gpd.read_file(filepath).to_crs(crs='EPSG:4326')\n",
    "    \n",
    "    ee_fc = eeconvert.gdfToFc(gdf)\n",
    "    buffered_geom = ee_fc.geometry().buffer(5000)\n",
    "    \n",
    "    dl = ee.batch.Export.image.toDrive(\n",
    "        image=ee_layer,\n",
    "        description=name,\n",
    "        folder=GDrive_dir,\n",
    "        fileNamePrefix=name,\n",
    "        dimensions=None,\n",
    "        region=buffered_geom,\n",
    "        scale=2,\n",
    "        crs=None,\n",
    "        crsTransform=None,\n",
    "        maxPixels=1e13,\n",
    "        shardSize=None,\n",
    "        fileDimensions=None,\n",
    "        skipEmptyTiles=None,\n",
    "        fileFormat=None,\n",
    "        formatOptions=None)\n",
    "    \n",
    "    dl.start()\n",
    "    \n",
    "    return dl"
   ]
  },
  {
   "cell_type": "markdown",
   "metadata": {},
   "source": [
    "#### Access GEE data layer"
   ]
  },
  {
   "cell_type": "code",
   "execution_count": null,
   "metadata": {},
   "outputs": [],
   "source": [
    "slope = get_ArcticDEM_slope()"
   ]
  },
  {
   "cell_type": "code",
   "execution_count": null,
   "metadata": {},
   "outputs": [],
   "source": [
    "rel_el_100 = get_ArcticDEM_rel_el(kernel_size=100)"
   ]
  },
  {
   "cell_type": "markdown",
   "metadata": {},
   "source": [
    "### Loop over datasets\n",
    "#### Slope"
   ]
  },
  {
   "cell_type": "markdown",
   "metadata": {},
   "source": [
    "#### Run full loop over slope "
   ]
  },
  {
   "cell_type": "code",
   "execution_count": null,
   "metadata": {},
   "outputs": [],
   "source": [
    "task = download_ee(f, slope)"
   ]
  },
  {
   "cell_type": "code",
   "execution_count": null,
   "metadata": {},
   "outputs": [],
   "source": [
    "print('Running Tasks:')\n",
    "if task.status()['state'] == 'RUNNING':\n",
    "    task.status()['description']"
   ]
  },
  {
   "cell_type": "code",
   "execution_count": null,
   "metadata": {},
   "outputs": [],
   "source": [
    "print('Completed Tasks:')\n",
    "if task.status()['state'] == 'COMPLETED':\n",
    "    task.status()['description']"
   ]
  },
  {
   "cell_type": "markdown",
   "metadata": {},
   "source": [
    "#### Elevation"
   ]
  },
  {
   "cell_type": "markdown",
   "metadata": {},
   "source": [
    "#### Run full loop over elevation"
   ]
  },
  {
   "cell_type": "code",
   "execution_count": null,
   "metadata": {},
   "outputs": [],
   "source": [
    "task_el = download_ee(f, rel_el_100, GDrive_dir='AI-CORE/elevation', suffix='_rel_el_100_scaled')"
   ]
  },
  {
   "cell_type": "code",
   "execution_count": null,
   "metadata": {},
   "outputs": [],
   "source": [
    "print('Running Tasks:')\n",
    "if task_el.status()['state'] == 'RUNNING':\n",
    "    task_el.status()['description']"
   ]
  },
  {
   "cell_type": "code",
   "execution_count": null,
   "metadata": {},
   "outputs": [],
   "source": [
    "print('Completed Tasks:')\n",
    "if task_el.status()['state'] == 'COMPLETED':\n",
    "    task_el.status()['description']"
   ]
  },
  {
   "cell_type": "code",
   "execution_count": null,
   "metadata": {},
   "outputs": [],
   "source": []
  }
 ],
 "metadata": {
  "kernelspec": {
   "display_name": "Python 3",
   "language": "python",
   "name": "python3"
  },
  "language_info": {
   "codemirror_mode": {
    "name": "ipython",
    "version": 3
   },
   "file_extension": ".py",
   "mimetype": "text/x-python",
   "name": "python",
   "nbconvert_exporter": "python",
   "pygments_lexer": "ipython3",
   "version": "3.7.7"
  }
 },
 "nbformat": 4,
 "nbformat_minor": 2
}
