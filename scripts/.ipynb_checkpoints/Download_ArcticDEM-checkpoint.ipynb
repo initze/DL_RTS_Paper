{
 "cells": [
  {
   "cell_type": "markdown",
   "metadata": {},
   "source": [
    "# Trigger ArcticDEM Download \n",
    "### Notebook to download\n",
    "1. detrended and\n",
    "2. rescaled Arctic DEM data"
   ]
  },
  {
   "cell_type": "markdown",
   "metadata": {},
   "source": [
    "* run with gee environment: aicore has geopandas/pyproj issues"
   ]
  },
  {
   "cell_type": "code",
   "execution_count": null,
   "metadata": {},
   "outputs": [],
   "source": [
    "import ee\n",
    "import os\n",
    "import geopandas as gpd\n",
    "import glob\n",
    "import eeconvert\n",
    "%config Completer.use_jedi = False # dummy line to \"fix\" buggy autocomplete"
   ]
  },
  {
   "cell_type": "code",
   "execution_count": null,
   "metadata": {},
   "outputs": [],
   "source": [
    "ee.Initialize()"
   ]
  },
  {
   "cell_type": "markdown",
   "metadata": {},
   "source": [
    "### Settings\n",
    "\n",
    "#### Set path to diretory with boundary files"
   ]
  },
  {
   "cell_type": "code",
   "execution_count": null,
   "metadata": {},
   "outputs": [],
   "source": [
    "REGION_FILE = r''"
   ]
  },
  {
   "cell_type": "markdown",
   "metadata": {},
   "source": [
    "#### Read all files\n",
    "* change pattern to '/*.shp' for shapefiles or keep for geojson"
   ]
  },
  {
   "cell_type": "code",
   "execution_count": null,
   "metadata": {},
   "outputs": [],
   "source": [
    "flist = glob.glob(REGION_FILE + '/*')"
   ]
  },
  {
   "cell_type": "code",
   "execution_count": null,
   "metadata": {},
   "outputs": [],
   "source": [
    "flist"
   ]
  },
  {
   "cell_type": "markdown",
   "metadata": {},
   "source": [
    "### Functions"
   ]
  },
  {
   "cell_type": "code",
   "execution_count": null,
   "metadata": {},
   "outputs": [],
   "source": [
    "def get_ArcticDEM_slope():\n",
    "    dem = ee.Image(\"UMN/PGC/ArcticDEM/V3/2m_mosaic\")\n",
    "    slope = ee.Terrain.slope(dem)\n",
    "    return slope"
   ]
  },
  {
   "cell_type": "code",
   "execution_count": null,
   "metadata": {},
   "outputs": [],
   "source": [
    "def get_ArcticDEM_rel_el(kernel_size=300, offset=50, factor=300):\n",
    "    dem = ee.Image(\"UMN/PGC/ArcticDEM/V3/2m_mosaic\")\n",
    "    conv = dem.convolve(ee.Kernel.circle(kernel_size, 'meters'))\n",
    "    diff = (dem.subtract(conv).add(ee.Image.constant(offset)).multiply(ee.Image.constant(factor)).toInt16())\n",
    "    return diff"
   ]
  },
  {
   "cell_type": "code",
   "execution_count": null,
   "metadata": {},
   "outputs": [],
   "source": [
    "def download_ee(filepath, ee_layer, GDrive_dir='AI-CORE/slope', scale=2, buffersize=5000, suffix='_slope'):\n",
    "    \n",
    "    name = os.path.basename(filepath).split('.')[0] + suffix\n",
    "    gdf = gpd.read_file(filepath).to_crs(crs='EPSG:4326')\n",
    "    \n",
    "    ee_fc = eeconvert.gdfToFc(gdf)\n",
    "    buffered_geom = ee_fc.geometry().buffer(5000)\n",
    "    \n",
    "    dl = ee.batch.Export.image.toDrive(\n",
    "        image=ee_layer,\n",
    "        description=name,\n",
    "        folder=GDrive_dir,\n",
    "        fileNamePrefix=name,\n",
    "        dimensions=None,\n",
    "        region=buffered_geom,\n",
    "        scale=2,\n",
    "        crs=None,\n",
    "        crsTransform=None,\n",
    "        maxPixels=1e13,\n",
    "        shardSize=None,\n",
    "        fileDimensions=None,\n",
    "        skipEmptyTiles=None,\n",
    "        fileFormat=None,\n",
    "        formatOptions=None)\n",
    "    \n",
    "    dl.start()\n",
    "    \n",
    "    return dl"
   ]
  },
  {
   "cell_type": "markdown",
   "metadata": {},
   "source": [
    "#### Access GEE data layer"
   ]
  },
  {
   "cell_type": "code",
   "execution_count": null,
   "metadata": {},
   "outputs": [],
   "source": [
    "slope = get_ArcticDEM_slope()"
   ]
  },
  {
   "cell_type": "code",
   "execution_count": null,
   "metadata": {},
   "outputs": [],
   "source": [
    "rel_el_100 = get_ArcticDEM_rel_el(kernel_size=100)"
   ]
  },
  {
   "cell_type": "markdown",
   "metadata": {},
   "source": [
    "### Loop over datasets\n",
    "#### Slope"
   ]
  },
  {
   "cell_type": "markdown",
   "metadata": {},
   "source": [
    "#### Run full loop over slope "
   ]
  },
  {
   "cell_type": "code",
   "execution_count": null,
   "metadata": {},
   "outputs": [],
   "source": [
    "tasks = [download_ee(f, slope, GDrive_dir='AI-CORE/slope', suffix='_slope') for f in flist[:]]"
   ]
  },
  {
   "cell_type": "code",
   "execution_count": null,
   "metadata": {},
   "outputs": [],
   "source": [
    "tasks[0].status()"
   ]
  },
  {
   "cell_type": "code",
   "execution_count": null,
   "metadata": {},
   "outputs": [],
   "source": [
    "print('Running Tasks:')\n",
    "[t.status()['description'] for t in tasks if t.status()['state'] == 'RUNNING']"
   ]
  },
  {
   "cell_type": "code",
   "execution_count": null,
   "metadata": {},
   "outputs": [],
   "source": [
    "print('Completed Tasks:')\n",
    "[t.status()['description'] for t in tasks if t.status()['state'] == 'COMPLETED']"
   ]
  },
  {
   "cell_type": "markdown",
   "metadata": {},
   "source": [
    "### Loop over datasets\n",
    "#### Elevation"
   ]
  },
  {
   "cell_type": "markdown",
   "metadata": {},
   "source": [
    "#### Run full loop over elevation"
   ]
  },
  {
   "cell_type": "code",
   "execution_count": null,
   "metadata": {},
   "outputs": [],
   "source": [
    "tasks_el = [download_ee(f, rel_el_100, GDrive_dir='AI-CORE/elevation', suffix='_rel_el_100_scaled') for f in flist[:]]"
   ]
  },
  {
   "cell_type": "code",
   "execution_count": null,
   "metadata": {},
   "outputs": [],
   "source": [
    "print('Running Tasks:')\n",
    "[t.status()['description'] for t in tasks_el if t.status()['state'] == 'RUNNING']"
   ]
  },
  {
   "cell_type": "code",
   "execution_count": null,
   "metadata": {},
   "outputs": [],
   "source": [
    "print('Completed Tasks:')\n",
    "[t.status()['description'] for t in tasks_el if t.status()['state'] == 'COMPLETED']"
   ]
  }
 ],
 "metadata": {
  "kernelspec": {
   "display_name": "Python 3",
   "language": "python",
   "name": "python3"
  },
  "language_info": {
   "codemirror_mode": {
    "name": "ipython",
    "version": 3
   },
   "file_extension": ".py",
   "mimetype": "text/x-python",
   "name": "python",
   "nbconvert_exporter": "python",
   "pygments_lexer": "ipython3",
   "version": "3.7.4"
  }
 },
 "nbformat": 4,
 "nbformat_minor": 2
}
